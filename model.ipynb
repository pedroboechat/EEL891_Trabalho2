{
 "cells": [
  {
   "cell_type": "code",
   "execution_count": 12,
   "metadata": {},
   "outputs": [],
   "source": [
    "import pandas as pd\r\n",
    "import numpy as np"
   ]
  },
  {
   "cell_type": "code",
   "execution_count": 13,
   "metadata": {},
   "outputs": [],
   "source": [
    "df_train = pd.read_csv(\"data/train.csv\")\r\n",
    "X = df_train.iloc[:, :-1].values\r\n",
    "y = df_train.iloc[:, -1].values\r\n",
    "\r\n",
    "df_kaggle = pd.read_csv(\"data/test.csv\")\r\n",
    "X_kaggle = df_kaggle.iloc[:, :].values"
   ]
  },
  {
   "cell_type": "code",
   "execution_count": null,
   "metadata": {},
   "outputs": [],
   "source": [
    "# from sklearn.compose import ColumnTransformer\r\n",
    "# from sklearn.preprocessing import OneHotEncoder\r\n",
    "\r\n",
    "# ct = ColumnTransformer(transformers=[(\"encoder\", OneHotEncoder(handle_unknown=\"ignore\"), [0, 1])], remainder=\"passthrough\")\r\n",
    "# X = np.array(ct.fit_transform(X))\r\n",
    "# X_kaggle = np.array(ct.transform(X_kaggle))"
   ]
  },
  {
   "cell_type": "code",
   "execution_count": 14,
   "metadata": {},
   "outputs": [],
   "source": [
    "# from sklearn.model_selection import train_test_split\r\n",
    "# X_train, X_test, y_train, y_test = train_test_split(X, y, test_size=0.2, random_state=1)\r\n",
    "X_train = X\r\n",
    "y_train = y"
   ]
  },
  {
   "cell_type": "code",
   "execution_count": 16,
   "metadata": {},
   "outputs": [
    {
     "data": {
      "text/plain": [
       "83"
      ]
     },
     "execution_count": 16,
     "metadata": {},
     "output_type": "execute_result"
    }
   ],
   "source": [
    "list(df_train).index(\"quartos\")"
   ]
  },
  {
   "cell_type": "code",
   "execution_count": null,
   "metadata": {},
   "outputs": [],
   "source": [
    "from sklearn.preprocessing import StandardScaler\r\n",
    "\r\n",
    "sc = StandardScaler()\r\n",
    "X_train[:, 84:89] = sc.fit_transform(X_train[:, 84:89])\r\n",
    "\r\n",
    "# sc_y = StandardScaler()\r\n",
    "# y_train = sc_y.fit_transform(y_train.reshape(-1,1))\r\n",
    "\r\n",
    "sc_kaggle = StandardScaler()\r\n",
    "X_kaggle[:, 83:88] = sc_kaggle.fit_transform(X_kaggle[:, 83:88])"
   ]
  },
  {
   "cell_type": "code",
   "execution_count": null,
   "metadata": {},
   "outputs": [],
   "source": [
    "from catboost import CatBoostRegressor\r\n",
    "\r\n",
    "regressor = CatBoostRegressor()\r\n",
    "regressor.fit(X_train, y_train)"
   ]
  },
  {
   "cell_type": "code",
   "execution_count": null,
   "metadata": {},
   "outputs": [],
   "source": [
    "# from sklearn.metrics import accuracy_score, confusion_matrix\r\n",
    "\r\n",
    "# y_pred = classifier.predict(X_test)\r\n",
    "# acc_sc = accuracy_score(y_test, y_pred)\r\n",
    "# cf_mx = confusion_matrix(y_test, y_pred)\r\n",
    "# print(\"Accuracy Score:\", acc_sc)\r\n",
    "# print(cf_mx)"
   ]
  },
  {
   "cell_type": "code",
   "execution_count": null,
   "metadata": {},
   "outputs": [],
   "source": [
    "from sklearn.model_selection import cross_val_score\r\n",
    "from datetime import datetime as dt\r\n",
    "timestamp = dt.today()\r\n",
    "\r\n",
    "accuracies = cross_val_score(estimator=regressor, X=X_train, y=y_train, cv=10)\r\n",
    "print(f\"Accuracy: {accuracies.mean()}\")\r\n",
    "print(f\"StdDev: {accuracies.std()}\")\r\n",
    "try:\r\n",
    "    with open(\"data/cross_val.log\", mode=\"x+\") as cvlog:\r\n",
    "        cvlog.write(\"timestamp,accuracy,stddev\")\r\n",
    "        cvlog.write(f\"\\n{timestamp},{accuracies.mean()},{accuracies.std()}\")\r\n",
    "except:\r\n",
    "    with open(\"data/cross_val.log\", mode=\"a\") as cvlog:\r\n",
    "        cvlog.write(f\"\\n{timestamp},{accuracies.mean()},{accuracies.std()}\")"
   ]
  },
  {
   "cell_type": "code",
   "execution_count": null,
   "metadata": {},
   "outputs": [],
   "source": [
    "y_kaggle = sc_y.inverse_transform(regressor.predict(X_kaggle))"
   ]
  },
  {
   "cell_type": "code",
   "execution_count": null,
   "metadata": {},
   "outputs": [],
   "source": [
    "with open(f\"data/kaggle/kaggle_{timestamp.strftime('%d-%m-%Y_%Hh%M')}.csv\", mode=\"w\") as out:\r\n",
    "    out.write(\"Id,preco\")\r\n",
    "    for i in range(len(y_kaggle)):\r\n",
    "        out.write(f\"\\n{i},{round(y_kaggle[i], 2):.2f}\")"
   ]
  }
 ],
 "metadata": {
  "interpreter": {
   "hash": "5fa7bcb88a8a02560aa18023a8e77b38c69a6d20c15f0b9e64827779c46801f1"
  },
  "kernelspec": {
   "display_name": "Python 3.9.5 64-bit",
   "name": "python3"
  },
  "language_info": {
   "codemirror_mode": {
    "name": "ipython",
    "version": 3
   },
   "file_extension": ".py",
   "mimetype": "text/x-python",
   "name": "python",
   "nbconvert_exporter": "python",
   "pygments_lexer": "ipython3",
   "version": "3.9.5"
  },
  "orig_nbformat": 2
 },
 "nbformat": 4,
 "nbformat_minor": 2
}