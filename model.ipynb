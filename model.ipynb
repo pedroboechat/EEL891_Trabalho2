{
 "cells": [
  {
   "cell_type": "markdown",
   "metadata": {},
   "source": [
    "## Importação de Bibliotecas"
   ]
  },
  {
   "cell_type": "code",
   "execution_count": null,
   "metadata": {},
   "outputs": [],
   "source": [
    "import pandas as pd\r\n",
    "import numpy as np"
   ]
  },
  {
   "cell_type": "markdown",
   "metadata": {},
   "source": [
    "## Importação dos Dados"
   ]
  },
  {
   "cell_type": "code",
   "execution_count": null,
   "metadata": {},
   "outputs": [],
   "source": [
    "df_train = pd.read_csv(\"data/train.csv\")\r\n",
    "X_train = df_train.iloc[:, :-1].values\r\n",
    "y_train = df_train.iloc[:, -1].values\r\n",
    "\r\n",
    "df_kaggle = pd.read_csv(\"data/test.csv\")\r\n",
    "X_kaggle = df_kaggle.iloc[:, :].values"
   ]
  },
  {
   "cell_type": "markdown",
   "metadata": {},
   "source": [
    "## Utilização de *Scaler* para padronizar colunas"
   ]
  },
  {
   "cell_type": "code",
   "execution_count": null,
   "metadata": {},
   "outputs": [],
   "source": [
    "from sklearn.preprocessing import StandardScaler\r\n",
    "\r\n",
    "sc = StandardScaler()\r\n",
    "X_train[:, 84:89] = sc.fit_transform(X_train[:, 84:89])\r\n",
    "# X_test[:, 33:] = sc.transform(X_test[:, 33:])\r\n",
    "sc_y = StandardScaler()\r\n",
    "y_train = sc_y.fit_transform(y_train.reshape(-1,1))\r\n",
    "\r\n",
    "sc_kaggle = StandardScaler()\r\n",
    "X_kaggle[:, 84:89] = sc_kaggle.fit_transform(X_kaggle[:, 84:89])"
   ]
  },
  {
   "cell_type": "markdown",
   "metadata": {},
   "source": [
    "## Utilização de *Gradient Boosting* com a biblioteca *CatBoost* para treinar modelo de regressão"
   ]
  },
  {
   "cell_type": "code",
   "execution_count": null,
   "metadata": {},
   "outputs": [],
   "source": [
    "from catboost import CatBoostRegressor\r\n",
    "\r\n",
    "regressor = CatBoostRegressor()\r\n",
    "regressor.fit(X_train, y_train)"
   ]
  },
  {
   "cell_type": "markdown",
   "metadata": {},
   "source": [
    "## Avaliação preliminar do modelo de regressão utilizando *cross validation score*"
   ]
  },
  {
   "cell_type": "code",
   "execution_count": null,
   "metadata": {},
   "outputs": [],
   "source": [
    "from sklearn.model_selection import cross_val_score\r\n",
    "from datetime import datetime as dt\r\n",
    "timestamp = dt.today()\r\n",
    "\r\n",
    "accuracies = cross_val_score(estimator=regressor, X=X_train, y=y_train, cv=10)\r\n",
    "print(f\"Accuracy: {accuracies.mean()}\")\r\n",
    "print(f\"StdDev: {accuracies.std()}\")\r\n",
    "try:\r\n",
    "    with open(\"data/cross_val.log\", mode=\"x+\") as cvlog:\r\n",
    "        cvlog.write(\"timestamp,accuracy,stddev\")\r\n",
    "        cvlog.write(f\"\\n{timestamp},{accuracies.mean()},{accuracies.std()}\")\r\n",
    "except:\r\n",
    "    with open(\"data/cross_val.log\", mode=\"a\") as cvlog:\r\n",
    "        cvlog.write(f\"\\n{timestamp},{accuracies.mean()},{accuracies.std()}\")"
   ]
  },
  {
   "cell_type": "markdown",
   "metadata": {},
   "source": [
    "## Predição da regressão do conjunto de teste utilizando o modelo treinado"
   ]
  },
  {
   "cell_type": "code",
   "execution_count": null,
   "metadata": {},
   "outputs": [],
   "source": [
    "y_kaggle = sc_y.inverse_transform(regressor.predict(X_kaggle))"
   ]
  },
  {
   "cell_type": "markdown",
   "metadata": {},
   "source": [
    "## Exportação do CSV para submissão no Kaggle"
   ]
  },
  {
   "cell_type": "code",
   "execution_count": null,
   "metadata": {},
   "outputs": [],
   "source": [
    "with open(f\"data/kaggle/kaggle_{timestamp.strftime('%d-%m-%Y_%Hh%M')}.csv\", mode=\"w\") as out:\r\n",
    "    out.write(\"Id,preco\")\r\n",
    "    for i in range(len(y_kaggle)):\r\n",
    "        out.write(f\"\\n{i},{round(y_kaggle[i], 2):.2f}\")"
   ]
  }
 ],
 "metadata": {
  "interpreter": {
   "hash": "5fa7bcb88a8a02560aa18023a8e77b38c69a6d20c15f0b9e64827779c46801f1"
  },
  "kernelspec": {
   "display_name": "Python 3.9.5 64-bit",
   "name": "python3"
  },
  "language_info": {
   "codemirror_mode": {
    "name": "ipython",
    "version": 3
   },
   "file_extension": ".py",
   "mimetype": "text/x-python",
   "name": "python",
   "nbconvert_exporter": "python",
   "pygments_lexer": "ipython3",
   "version": "3.9.5"
  },
  "orig_nbformat": 2
 },
 "nbformat": 4,
 "nbformat_minor": 2
}